{
  "nbformat": 4,
  "nbformat_minor": 0,
  "metadata": {
    "colab": {
      "provenance": []
    },
    "kernelspec": {
      "name": "python3",
      "display_name": "Python 3"
    },
    "language_info": {
      "name": "python"
    }
  },
  "cells": [
    {
      "cell_type": "code",
      "execution_count": null,
      "metadata": {
        "id": "n0CNVd7OPdUp"
      },
      "outputs": [],
      "source": [
        "# 1. IMPORT ALL PACKAGES\n",
        "import numpy as np\n",
        "import pandas as pd\n",
        "import matplotlib.pyplot as plt\n",
        "from collections import Counter\n",
        "from sklearn.preprocessing import LabelEncoder\n",
        "from sklearn.model_selection import train_test_split, GridSearchCV, RandomizedSearchCV\n",
        "from sklearn.ensemble import RandomForestClassifier\n",
        "from sklearn.metrics import classification_report, confusion_matrix, accuracy_score"
      ]
    },
    {
      "cell_type": "code",
      "source": [
        "# 2. IMPORT DATASET (Car Evaluation Dataset)\n",
        "# Make sure \"car_evaluation.csv\" is in your working directory.\n",
        "df = pd.read_csv(\"/content/car_evaluation (2).csv\")"
      ],
      "metadata": {
        "id": "nLA4GJGoafjW"
      },
      "execution_count": null,
      "outputs": []
    },
    {
      "cell_type": "code",
      "source": [
        "# 3. DISPLAY HEAD, TAIL, DESCRIBE, COLUMN NAMES, DATA SIZE & SHAPE\n",
        "print(\"First 5 rows:\")\n",
        "print(df.head())\n",
        "\n",
        "print(\"\\nLast 5 rows:\")\n",
        "print(df.tail())\n",
        "\n",
        "print(\"\\nStatistical Description:\")\n",
        "print(df.describe())\n",
        "\n",
        "print(\"\\nColumn Names:\")\n",
        "print(df.columns.tolist())\n",
        "\n",
        "print(\"\\nData Shape (rows, columns):\")\n",
        "print(df.shape)\n",
        "\n",
        "print(\"\\nData Size (total elements):\")\n",
        "print(df.size)"
      ],
      "metadata": {
        "id": "mR0NWspu9qtx",
        "colab": {
          "base_uri": "https://localhost:8080/"
        },
        "outputId": "b8ca5450-79ea-40fd-b86b-daea440dfc59"
      },
      "execution_count": null,
      "outputs": [
        {
          "output_type": "stream",
          "name": "stdout",
          "text": [
            "First 5 rows:\n",
            "  buying  maint  doors  persons lug_boot safety outcome\n",
            "0  vhigh  vhigh      2        2    small    low   unacc\n",
            "1  vhigh  vhigh      2        2    small    med   unacc\n",
            "2  vhigh  vhigh      2        2    small   high   unacc\n",
            "3  vhigh  vhigh      2        2      med    low   unacc\n",
            "4  vhigh  vhigh      2        2      med    med   unacc\n",
            "\n",
            "Last 5 rows:\n",
            "     buying maint  doors  persons lug_boot safety outcome\n",
            "1723    low   low      5        5      med    med    good\n",
            "1724    low   low      5        5      med   high   vgood\n",
            "1725    low   low      5        5      big    low   unacc\n",
            "1726    low   low      5        5      big    med    good\n",
            "1727    low   low      5        5      big   high   vgood\n",
            "\n",
            "Statistical Description:\n",
            "             doors      persons\n",
            "count  1728.000000  1728.000000\n",
            "mean      3.500000     3.666667\n",
            "std       1.118358     1.247580\n",
            "min       2.000000     2.000000\n",
            "25%       2.750000     2.000000\n",
            "50%       3.500000     4.000000\n",
            "75%       4.250000     5.000000\n",
            "max       5.000000     5.000000\n",
            "\n",
            "Column Names:\n",
            "['buying', 'maint', 'doors', 'persons', 'lug_boot', 'safety', 'outcome']\n",
            "\n",
            "Data Shape (rows, columns):\n",
            "(1728, 7)\n",
            "\n",
            "Data Size (total elements):\n",
            "12096\n"
          ]
        }
      ]
    },
    {
      "cell_type": "code",
      "source": [
        "# 4. CHECK FOR NULL VALUES & REMOVE IF ANY, THEN CHECK & REMOVE DUPLICATES\n",
        "print(\"\\nChecking for Null Values:\")\n",
        "print(df.isnull().sum())\n",
        "\n",
        "# If any null values exist, remove them (if needed uncomment the following line)\n",
        "# df.dropna(inplace=True)\n",
        "\n",
        "# Check for duplicates\n",
        "print(\"\\nNumber of Duplicates:\", df.duplicated().sum())\n",
        "# Remove duplicates if found\n",
        "df.drop_duplicates(inplace=True)\n",
        "\n",
        "print(\"\\nData Shape after cleaning (rows, columns):\", df.shape)\n",
        "\n",
        "# 5. DISPLAY FEW STATISTICAL DATA (e.g., frequency counts of 'outcome')\n",
        "print(\"\\nFrequency count for 'outcome':\")\n",
        "print(df['outcome'].value_counts())\n",
        "\n",
        "# 6. LABEL ENCODER FOR DATASET TO CONVERT CATEGORICAL VALUES TO NUMBERS\n",
        "encoder = LabelEncoder()\n",
        "# Applying encoding to each categorical column in features\n",
        "df['buying'] = encoder.fit_transform(df['buying'])\n",
        "df['maint'] = encoder.fit_transform(df['maint'])\n",
        "df['doors'] = encoder.fit_transform(df['doors'])\n",
        "df['persons'] = encoder.fit_transform(df['persons'])\n",
        "df['lug_boot'] = encoder.fit_transform(df['lug_boot'])\n",
        "df['safety'] = encoder.fit_transform(df['safety'])\n",
        "# Optionally, you may also encode the target variable if required\n",
        "df['outcome'] = encoder.fit_transform(df['outcome'])\n",
        "\n",
        "print(\"\\nDataset after Label Encoding:\")\n",
        "print(df.head())\n"
      ],
      "metadata": {
        "id": "6B59YqzN9qwd",
        "colab": {
          "base_uri": "https://localhost:8080/"
        },
        "outputId": "ba4ce57e-797d-4f49-b0f8-0ca7561753ea"
      },
      "execution_count": null,
      "outputs": [
        {
          "output_type": "stream",
          "name": "stdout",
          "text": [
            "\n",
            "Checking for Null Values:\n",
            "buying      0\n",
            "maint       0\n",
            "doors       0\n",
            "persons     0\n",
            "lug_boot    0\n",
            "safety      0\n",
            "outcome     0\n",
            "dtype: int64\n",
            "\n",
            "Number of Duplicates: 0\n",
            "\n",
            "Data Shape after cleaning (rows, columns): (1728, 7)\n",
            "\n",
            "Frequency count for 'outcome':\n",
            "outcome\n",
            "unacc    1210\n",
            "acc       384\n",
            "good       69\n",
            "vgood      65\n",
            "Name: count, dtype: int64\n",
            "\n",
            "Dataset after Label Encoding:\n",
            "   buying  maint  doors  persons  lug_boot  safety  outcome\n",
            "0       3      3      0        0         2       1        2\n",
            "1       3      3      0        0         2       2        2\n",
            "2       3      3      0        0         2       0        2\n",
            "3       3      3      0        0         1       1        2\n",
            "4       3      3      0        0         1       2        2\n"
          ]
        }
      ]
    },
    {
      "cell_type": "code",
      "source": [
        "# 7. EDA: Visualize the distribution of 'outcome' using a Pie Chart\n",
        "#    using Counter from collections\n",
        "outcome_counts = Counter(df['outcome'])\n",
        "labels = list(outcome_counts.keys())\n",
        "sizes = list(outcome_counts.values())\n",
        "\n",
        "plt.figure(figsize=(6, 6))\n",
        "plt.pie(sizes, labels=labels, autopct='%1.1f%%', startangle=140)\n",
        "plt.title(\"Outcome Distribution (Encoded)\")\n",
        "plt.show()\n",
        "\n",
        "# 8. DATA PREPROCESSING: SPLITTING THE DATA INTO FEATURES AND TARGET\n",
        "X = df.drop('outcome', axis=1)  # All features\n",
        "y = df['outcome']               # Target variable\n",
        "\n",
        "# Split data into training and testing sets (default split, adjust test_size if needed)\n",
        "X_train, X_test, y_train, y_test = train_test_split(X, y, random_state=42)"
      ],
      "metadata": {
        "id": "8-LLMIeF9qzN",
        "colab": {
          "base_uri": "https://localhost:8080/",
          "height": 521
        },
        "outputId": "1df86281-a22c-4582-cbc5-c27928b1ac6a"
      },
      "execution_count": null,
      "outputs": [
        {
          "output_type": "display_data",
          "data": {
            "text/plain": [
              "<Figure size 600x600 with 1 Axes>"
            ],
            "image/png": "[encoded data removed]"
          },
          "metadata": {}
        }
      ]
    },
    {
      "cell_type": "code",
      "source": [
        "\n",
        "# 9. TRAIN THE MODEL & TEST ACCURACY\n",
        "# Create a RandomForestClassifier with specified hyperparameters\n",
        "model = RandomForestClassifier(n_estimators=25, max_depth=15, bootstrap=False, random_state=42)\n",
        "model.fit(X_train, y_train)"
      ],
      "metadata": {
        "colab": {
          "base_uri": "https://localhost:8080/",
          "height": 98
        },
        "id": "7O1L7ZAd-9MO",
        "outputId": "c4f5cf7d-4cd0-4a9b-eaaf-2e0787aa9165"
      },
      "execution_count": null,
      "outputs": [
        {
          "output_type": "execute_result",
          "data": {
            "text/plain": [
              "RandomForestClassifier(bootstrap=False, max_depth=15, n_estimators=25,\n",
              "                       random_state=42)"
            ],
            "text/html": [
              "<style>#sk-container-id-1 {\n",
              "  /* Definition of color scheme common for light and dark mode */\n",
              "  --sklearn-color-text: #000;\n",
              "  --sklearn-color-text-muted: #666;\n",
              "  --sklearn-color-line: gray;\n",
              "  /* Definition of color scheme for unfitted estimators */\n",
              "  --sklearn-color-unfitted-level-0: #fff5e6;\n",
              "  --sklearn-color-unfitted-level-1: #f6e4d2;\n",
              "  --sklearn-color-unfitted-level-2: #ffe0b3;\n",
              "  --sklearn-color-unfitted-level-3: chocolate;\n",
              "  /* Definition of color scheme for fitted estimators */\n",
              "  --sklearn-color-fitted-level-0: #f0f8ff;\n",
              "  --sklearn-color-fitted-level-1: #d4ebff;\n",
              "  --sklearn-color-fitted-level-2: #b3dbfd;\n",
              "  --sklearn-color-fitted-level-3: cornflowerblue;\n",
              "\n",
              "  /* Specific color for light theme */\n",
              "  --sklearn-color-text-on-default-background: var(--sg-text-color, var(--theme-code-foreground, var(--jp-content-font-color1, black)));\n",
              "  --sklearn-color-background: var(--sg-background-color, var(--theme-background, var(--jp-layout-color0, white)));\n",
              "  --sklearn-color-border-box: var(--sg-text-color, var(--theme-code-foreground, var(--jp-content-font-color1, black)));\n",
              "  --sklearn-color-icon: #696969;\n",
              "\n",
              "  @media (prefers-color-scheme: dark) {\n",
              "    /* Redefinition of color scheme for dark theme */\n",
              "    --sklearn-color-text-on-default-background: var(--sg-text-color, var(--theme-code-foreground, var(--jp-content-font-color1, white)));\n",
              "    --sklearn-color-background: var(--sg-background-color, var(--theme-background, var(--jp-layout-color0, #111)));\n",
              "    --sklearn-color-border-box: var(--sg-text-color, var(--theme-code-foreground, var(--jp-content-font-color1, white)));\n",
              "    --sklearn-color-icon: #878787;\n",
              "  }\n",
              "}\n",
              "\n",
              "#sk-container-id-1 {\n",
              "  color: var(--sklearn-color-text);\n",
              "}\n",
              "\n",
              "#sk-container-id-1 pre {\n",
              "  padding: 0;\n",
              "}\n",
              "\n",
              "#sk-container-id-1 input.sk-hidden--visually {\n",
              "  border: 0;\n",
              "  clip: rect(1px 1px 1px 1px);\n",
              "  clip: rect(1px, 1px, 1px, 1px);\n",
              "  height: 1px;\n",
              "  margin: -1px;\n",
              "  overflow: hidden;\n",
              "  padding: 0;\n",
              "  position: absolute;\n",
              "  width: 1px;\n",
              "}\n",
              "\n",
              "#sk-container-id-1 div.sk-dashed-wrapped {\n",
              "  border: 1px dashed var(--sklearn-color-line);\n",
              "  margin: 0 0.4em 0.5em 0.4em;\n",
              "  box-sizing: border-box;\n",
              "  padding-bottom: 0.4em;\n",
              "  background-color: var(--sklearn-color-background);\n",
              "}\n",
              "\n",
              "#sk-container-id-1 div.sk-container {\n",
              "  /* jupyter's `normalize.less` sets `[hidden] { display: none; }`\n",
              "     but bootstrap.min.css set `[hidden] { display: none !important; }`\n",
              "     so we also need the `!important` here to be able to override the\n",
              "     default hidden behavior on the sphinx rendered scikit-learn.org.\n",
              "     See: https://github.com/scikit-learn/scikit-learn/issues/21755 */\n",
              "  display: inline-block !important;\n",
              "  position: relative;\n",
              "}\n",
              "\n",
              "#sk-container-id-1 div.sk-text-repr-fallback {\n",
              "  display: none;\n",
              "}\n",
              "\n",
              "div.sk-parallel-item,\n",
              "div.sk-serial,\n",
              "div.sk-item {\n",
              "  /* draw centered vertical line to link estimators */\n",
              "  background-image: linear-gradient(var(--sklearn-color-text-on-default-background), var(--sklearn-color-text-on-default-background));\n",
              "  background-size: 2px 100%;\n",
              "  background-repeat: no-repeat;\n",
              "  background-position: center center;\n",
              "}\n",
              "\n",
              "/* Parallel-specific style estimator block */\n",
              "\n",
              "#sk-container-id-1 div.sk-parallel-item::after {\n",
              "  content: \"\";\n",
              "  width: 100%;\n",
              "  border-bottom: 2px solid var(--sklearn-color-text-on-default-background);\n",
              "  flex-grow: 1;\n",
              "}\n",
              "\n",
              "#sk-container-id-1 div.sk-parallel {\n",
              "  display: flex;\n",
              "  align-items: stretch;\n",
              "  justify-content: center;\n",
              "  background-color: var(--sklearn-color-background);\n",
              "  position: relative;\n",
              "}\n",
              "\n",
              "#sk-container-id-1 div.sk-parallel-item {\n",
              "  display: flex;\n",
              "  flex-direction: column;\n",
              "}\n",
              "\n",
              "#sk-container-id-1 div.sk-parallel-item:first-child::after {\n",
              "  align-self: flex-end;\n",
              "  width: 50%;\n",
              "}\n",
              "\n",
              "#sk-container-id-1 div.sk-parallel-item:last-child::after {\n",
              "  align-self: flex-start;\n",
              "  width: 50%;\n",
              "}\n",
              "\n",
              "#sk-container-id-1 div.sk-parallel-item:only-child::after {\n",
              "  width: 0;\n",
              "}\n",
              "\n",
              "/* Serial-specific style estimator block */\n",
              "\n",
              "#sk-container-id-1 div.sk-serial {\n",
              "  display: flex;\n",
              "  flex-direction: column;\n",
              "  align-items: center;\n",
              "  background-color: var(--sklearn-color-background);\n",
              "  padding-right: 1em;\n",
              "  padding-left: 1em;\n",
              "}\n",
              "\n",
              "\n",
              "/* Toggleable style: style used for estimator/Pipeline/ColumnTransformer box that is\n",
              "clickable and can be expanded/collapsed.\n",
              "- Pipeline and ColumnTransformer use this feature and define the default style\n",
              "- Estimators will overwrite some part of the style using the `sk-estimator` class\n",
              "*/\n",
              "\n",
              "/* Pipeline and ColumnTransformer style (default) */\n",
              "\n",
              "#sk-container-id-1 div.sk-toggleable {\n",
              "  /* Default theme specific background. It is overwritten whether we have a\n",
              "  specific estimator or a Pipeline/ColumnTransformer */\n",
              "  background-color: var(--sklearn-color-background);\n",
              "}\n",
              "\n",
              "/* Toggleable label */\n",
              "#sk-container-id-1 label.sk-toggleable__label {\n",
              "  cursor: pointer;\n",
              "  display: flex;\n",
              "  width: 100%;\n",
              "  margin-bottom: 0;\n",
              "  padding: 0.5em;\n",
              "  box-sizing: border-box;\n",
              "  text-align: center;\n",
              "  align-items: start;\n",
              "  justify-content: space-between;\n",
              "  gap: 0.5em;\n",
              "}\n",
              "\n",
              "#sk-container-id-1 label.sk-toggleable__label .caption {\n",
              "  font-size: 0.6rem;\n",
              "  font-weight: lighter;\n",
              "  color: var(--sklearn-color-text-muted);\n",
              "}\n",
              "\n",
              "#sk-container-id-1 label.sk-toggleable__label-arrow:before {\n",
              "  /* Arrow on the left of the label */\n",
              "  content: \"▸\";\n",
              "  float: left;\n",
              "  margin-right: 0.25em;\n",
              "  color: var(--sklearn-color-icon);\n",
              "}\n",
              "\n",
              "#sk-container-id-1 label.sk-toggleable__label-arrow:hover:before {\n",
              "  color: var(--sklearn-color-text);\n",
              "}\n",
              "\n",
              "/* Toggleable content - dropdown */\n",
              "\n",
              "#sk-container-id-1 div.sk-toggleable__content {\n",
              "  max-height: 0;\n",
              "  max-width: 0;\n",
              "  overflow: hidden;\n",
              "  text-align: left;\n",
              "  /* unfitted */\n",
              "  background-color: var(--sklearn-color-unfitted-level-0);\n",
              "}\n",
              "\n",
              "#sk-container-id-1 div.sk-toggleable__content.fitted {\n",
              "  /* fitted */\n",
              "  background-color: var(--sklearn-color-fitted-level-0);\n",
              "}\n",
              "\n",
              "#sk-container-id-1 div.sk-toggleable__content pre {\n",
              "  margin: 0.2em;\n",
              "  border-radius: 0.25em;\n",
              "  color: var(--sklearn-color-text);\n",
              "  /* unfitted */\n",
              "  background-color: var(--sklearn-color-unfitted-level-0);\n",
              "}\n",
              "\n",
              "#sk-container-id-1 div.sk-toggleable__content.fitted pre {\n",
              "  /* unfitted */\n",
              "  background-color: var(--sklearn-color-fitted-level-0);\n",
              "}\n",
              "\n",
              "#sk-container-id-1 input.sk-toggleable__control:checked~div.sk-toggleable__content {\n",
              "  /* Expand drop-down */\n",
              "  max-height: 200px;\n",
              "  max-width: 100%;\n",
              "  overflow: auto;\n",
              "}\n",
              "\n",
              "#sk-container-id-1 input.sk-toggleable__control:checked~label.sk-toggleable__label-arrow:before {\n",
              "  content: \"▾\";\n",
              "}\n",
              "\n",
              "/* Pipeline/ColumnTransformer-specific style */\n",
              "\n",
              "#sk-container-id-1 div.sk-label input.sk-toggleable__control:checked~label.sk-toggleable__label {\n",
              "  color: var(--sklearn-color-text);\n",
              "  background-color: var(--sklearn-color-unfitted-level-2);\n",
              "}\n",
              "\n",
              "#sk-container-id-1 div.sk-label.fitted input.sk-toggleable__control:checked~label.sk-toggleable__label {\n",
              "  background-color: var(--sklearn-color-fitted-level-2);\n",
              "}\n",
              "\n",
              "/* Estimator-specific style */\n",
              "\n",
              "/* Colorize estimator box */\n",
              "#sk-container-id-1 div.sk-estimator input.sk-toggleable__control:checked~label.sk-toggleable__label {\n",
              "  /* unfitted */\n",
              "  background-color: var(--sklearn-color-unfitted-level-2);\n",
              "}\n",
              "\n",
              "#sk-container-id-1 div.sk-estimator.fitted input.sk-toggleable__control:checked~label.sk-toggleable__label {\n",
              "  /* fitted */\n",
              "  background-color: var(--sklearn-color-fitted-level-2);\n",
              "}\n",
              "\n",
              "#sk-container-id-1 div.sk-label label.sk-toggleable__label,\n",
              "#sk-container-id-1 div.sk-label label {\n",
              "  /* The background is the default theme color */\n",
              "  color: var(--sklearn-color-text-on-default-background);\n",
              "}\n",
              "\n",
              "/* On hover, darken the color of the background */\n",
              "#sk-container-id-1 div.sk-label:hover label.sk-toggleable__label {\n",
              "  color: var(--sklearn-color-text);\n",
              "  background-color: var(--sklearn-color-unfitted-level-2);\n",
              "}\n",
              "\n",
              "/* Label box, darken color on hover, fitted */\n",
              "#sk-container-id-1 div.sk-label.fitted:hover label.sk-toggleable__label.fitted {\n",
              "  color: var(--sklearn-color-text);\n",
              "  background-color: var(--sklearn-color-fitted-level-2);\n",
              "}\n",
              "\n",
              "/* Estimator label */\n",
              "\n",
              "#sk-container-id-1 div.sk-label label {\n",
              "  font-family: monospace;\n",
              "  font-weight: bold;\n",
              "  display: inline-block;\n",
              "  line-height: 1.2em;\n",
              "}\n",
              "\n",
              "#sk-container-id-1 div.sk-label-container {\n",
              "  text-align: center;\n",
              "}\n",
              "\n",
              "/* Estimator-specific */\n",
              "#sk-container-id-1 div.sk-estimator {\n",
              "  font-family: monospace;\n",
              "  border: 1px dotted var(--sklearn-color-border-box);\n",
              "  border-radius: 0.25em;\n",
              "  box-sizing: border-box;\n",
              "  margin-bottom: 0.5em;\n",
              "  /* unfitted */\n",
              "  background-color: var(--sklearn-color-unfitted-level-0);\n",
              "}\n",
              "\n",
              "#sk-container-id-1 div.sk-estimator.fitted {\n",
              "  /* fitted */\n",
              "  background-color: var(--sklearn-color-fitted-level-0);\n",
              "}\n",
              "\n",
              "/* on hover */\n",
              "#sk-container-id-1 div.sk-estimator:hover {\n",
              "  /* unfitted */\n",
              "  background-color: var(--sklearn-color-unfitted-level-2);\n",
              "}\n",
              "\n",
              "#sk-container-id-1 div.sk-estimator.fitted:hover {\n",
              "  /* fitted */\n",
              "  background-color: var(--sklearn-color-fitted-level-2);\n",
              "}\n",
              "\n",
              "/* Specification for estimator info (e.g. \"i\" and \"?\") */\n",
              "\n",
              "/* Common style for \"i\" and \"?\" */\n",
              "\n",
              ".sk-estimator-doc-link,\n",
              "a:link.sk-estimator-doc-link,\n",
              "a:visited.sk-estimator-doc-link {\n",
              "  float: right;\n",
              "  font-size: smaller;\n",
              "  line-height: 1em;\n",
              "  font-family: monospace;\n",
              "  background-color: var(--sklearn-color-background);\n",
              "  border-radius: 1em;\n",
              "  height: 1em;\n",
              "  width: 1em;\n",
              "  text-decoration: none !important;\n",
              "  margin-left: 0.5em;\n",
              "  text-align: center;\n",
              "  /* unfitted */\n",
              "  border: var(--sklearn-color-unfitted-level-1) 1pt solid;\n",
              "  color: var(--sklearn-color-unfitted-level-1);\n",
              "}\n",
              "\n",
              ".sk-estimator-doc-link.fitted,\n",
              "a:link.sk-estimator-doc-link.fitted,\n",
              "a:visited.sk-estimator-doc-link.fitted {\n",
              "  /* fitted */\n",
              "  border: var(--sklearn-color-fitted-level-1) 1pt solid;\n",
              "  color: var(--sklearn-color-fitted-level-1);\n",
              "}\n",
              "\n",
              "/* On hover */\n",
              "div.sk-estimator:hover .sk-estimator-doc-link:hover,\n",
              ".sk-estimator-doc-link:hover,\n",
              "div.sk-label-container:hover .sk-estimator-doc-link:hover,\n",
              ".sk-estimator-doc-link:hover {\n",
              "  /* unfitted */\n",
              "  background-color: var(--sklearn-color-unfitted-level-3);\n",
              "  color: var(--sklearn-color-background);\n",
              "  text-decoration: none;\n",
              "}\n",
              "\n",
              "div.sk-estimator.fitted:hover .sk-estimator-doc-link.fitted:hover,\n",
              ".sk-estimator-doc-link.fitted:hover,\n",
              "div.sk-label-container:hover .sk-estimator-doc-link.fitted:hover,\n",
              ".sk-estimator-doc-link.fitted:hover {\n",
              "  /* fitted */\n",
              "  background-color: var(--sklearn-color-fitted-level-3);\n",
              "  color: var(--sklearn-color-background);\n",
              "  text-decoration: none;\n",
              "}\n",
              "\n",
              "/* Span, style for the box shown on hovering the info icon */\n",
              ".sk-estimator-doc-link span {\n",
              "  display: none;\n",
              "  z-index: 9999;\n",
              "  position: relative;\n",
              "  font-weight: normal;\n",
              "  right: .2ex;\n",
              "  padding: .5ex;\n",
              "  margin: .5ex;\n",
              "  width: min-content;\n",
              "  min-width: 20ex;\n",
              "  max-width: 50ex;\n",
              "  color: var(--sklearn-color-text);\n",
              "  box-shadow: 2pt 2pt 4pt #999;\n",
              "  /* unfitted */\n",
              "  background: var(--sklearn-color-unfitted-level-0);\n",
              "  border: .5pt solid var(--sklearn-color-unfitted-level-3);\n",
              "}\n",
              "\n",
              ".sk-estimator-doc-link.fitted span {\n",
              "  /* fitted */\n",
              "  background: var(--sklearn-color-fitted-level-0);\n",
              "  border: var(--sklearn-color-fitted-level-3);\n",
              "}\n",
              "\n",
              ".sk-estimator-doc-link:hover span {\n",
              "  display: block;\n",
              "}\n",
              "\n",
              "/* \"?\"-specific style due to the `<a>` HTML tag */\n",
              "\n",
              "#sk-container-id-1 a.estimator_doc_link {\n",
              "  float: right;\n",
              "  font-size: 1rem;\n",
              "  line-height: 1em;\n",
              "  font-family: monospace;\n",
              "  background-color: var(--sklearn-color-background);\n",
              "  border-radius: 1rem;\n",
              "  height: 1rem;\n",
              "  width: 1rem;\n",
              "  text-decoration: none;\n",
              "  /* unfitted */\n",
              "  color: var(--sklearn-color-unfitted-level-1);\n",
              "  border: var(--sklearn-color-unfitted-level-1) 1pt solid;\n",
              "}\n",
              "\n",
              "#sk-container-id-1 a.estimator_doc_link.fitted {\n",
              "  /* fitted */\n",
              "  border: var(--sklearn-color-fitted-level-1) 1pt solid;\n",
              "  color: var(--sklearn-color-fitted-level-1);\n",
              "}\n",
              "\n",
              "/* On hover */\n",
              "#sk-container-id-1 a.estimator_doc_link:hover {\n",
              "  /* unfitted */\n",
              "  background-color: var(--sklearn-color-unfitted-level-3);\n",
              "  color: var(--sklearn-color-background);\n",
              "  text-decoration: none;\n",
              "}\n",
              "\n",
              "#sk-container-id-1 a.estimator_doc_link.fitted:hover {\n",
              "  /* fitted */\n",
              "  background-color: var(--sklearn-color-fitted-level-3);\n",
              "}\n",
              "</style><div id=\"sk-container-id-1\" class=\"sk-top-container\"><div class=\"sk-text-repr-fallback\"><pre>RandomForestClassifier(bootstrap=False, max_depth=15, n_estimators=25,\n",
              "                       random_state=42)</pre><b>In a Jupyter environment, please rerun this cell to show the HTML representation or trust the notebook. <br />On GitHub, the HTML representation is unable to render, please try loading this page with nbviewer.org.</b></div><div class=\"sk-container\" hidden><div class=\"sk-item\"><div class=\"sk-estimator fitted sk-toggleable\"><input class=\"sk-toggleable__control sk-hidden--visually\" id=\"sk-estimator-id-1\" type=\"checkbox\" checked><label for=\"sk-estimator-id-1\" class=\"sk-toggleable__label fitted sk-toggleable__label-arrow\"><div><div>RandomForestClassifier</div></div><div><a class=\"sk-estimator-doc-link fitted\" rel=\"noreferrer\" target=\"_blank\" href=\"https://scikit-learn.org/1.6/modules/generated/sklearn.ensemble.RandomForestClassifier.html\">?<span>Documentation for RandomForestClassifier</span></a><span class=\"sk-estimator-doc-link fitted\">i<span>Fitted</span></span></div></label><div class=\"sk-toggleable__content fitted\"><pre>RandomForestClassifier(bootstrap=False, max_depth=15, n_estimators=25,\n",
              "                       random_state=42)</pre></div> </div></div></div></div>"
            ]
          },
          "metadata": {},
          "execution_count": 9
        }
      ]
    },
    {
      "cell_type": "code",
      "source": [
        "# Predict on test data\n",
        "predict = model.predict(X_test)\n",
        "print(\"\\nPredictions on Test Data:\")\n",
        "print(predict)\n",
        "\n",
        "# 10. METRICS: CALCULATE ACCURACY, CLASSIFICATION REPORT & CONFUSION MATRIX\n",
        "acc = accuracy_score(y_test, predict)\n",
        "print(\"\\nAccuracy Score:\", acc)\n",
        "\n",
        "print(\"\\nClassification Report:\")\n",
        "print(classification_report(y_test, predict))\n",
        "\n",
        "print(\"\\nConfusion Matrix:\")\n",
        "print(confusion_matrix(y_test, predict))"
      ],
      "metadata": {
        "id": "WloMC3Gy9q1r",
        "colab": {
          "base_uri": "https://localhost:8080/"
        },
        "outputId": "e7b2123c-1e1c-447d-9fe1-9c073363ebe4"
      },
      "execution_count": null,
      "outputs": [
        {
          "output_type": "stream",
          "name": "stdout",
          "text": [
            "\n",
            "Predictions on Test Data:\n",
            "[2 1 2 0 2 0 2 2 2 2 3 0 2 2 2 2 2 2 2 0 2 0 0 2 0 2 2 2 2 2 0 2 2 2 0 0 1\n",
            " 2 2 2 2 2 0 0 1 0 2 2 2 2 2 2 0 2 2 2 2 2 2 1 2 0 2 2 0 3 2 0 0 2 2 2 2 2\n",
            " 1 3 2 2 2 2 3 2 2 0 3 0 2 0 1 0 2 1 2 2 2 1 2 2 2 0 2 2 2 2 1 1 0 2 2 0 2\n",
            " 2 2 2 2 0 1 2 2 2 2 1 2 0 0 2 1 2 2 2 2 2 1 2 2 0 2 3 2 2 2 0 0 0 2 0 2 2\n",
            " 2 2 1 3 2 2 2 2 2 2 2 2 2 0 2 2 2 2 0 2 0 3 0 2 0 2 2 0 2 2 2 2 0 2 2 2 1\n",
            " 0 2 2 0 2 2 2 0 2 2 2 2 0 2 2 2 2 2 1 2 2 2 1 2 2 2 2 0 2 2 1 2 2 2 3 3 2\n",
            " 2 0 2 2 2 2 0 2 2 2 2 2 0 2 2 2 2 2 2 2 2 2 2 2 2 2 2 2 2 2 2 2 2 2 2 2 0\n",
            " 2 0 2 2 2 2 2 0 3 2 2 2 0 2 2 3 2 2 0 0 2 0 2 0 0 2 2 0 1 3 0 0 2 2 2 2 3\n",
            " 0 0 2 2 2 2 3 2 2 2 2 0 2 2 3 0 0 2 2 0 0 0 2 0 0 2 2 2 2 2 2 0 2 2 2 2 0\n",
            " 2 2 2 2 0 2 2 2 2 2 2 2 2 2 2 2 2 2 0 2 2 0 2 2 2 3 2 2 2 2 0 2 0 2 2 2 0\n",
            " 2 0 1 3 2 2 2 0 2 2 2 2 0 2 2 2 2 0 2 2 0 2 0 2 2 2 2 2 0 2 2 2 2 2 2 0 2\n",
            " 2 3 2 0 2 2 0 0 2 3 2 0 2 1 2 0 0 2 2 2 2 0 2 1 2]\n",
            "\n",
            "Accuracy Score: 0.9652777777777778\n",
            "\n",
            "Classification Report:\n",
            "              precision    recall  f1-score   support\n",
            "\n",
            "           0       0.98      0.88      0.93       103\n",
            "           1       0.61      0.93      0.74        15\n",
            "           2       0.99      1.00      1.00       294\n",
            "           3       0.90      0.90      0.90        20\n",
            "\n",
            "    accuracy                           0.97       432\n",
            "   macro avg       0.87      0.93      0.89       432\n",
            "weighted avg       0.97      0.97      0.97       432\n",
            "\n",
            "\n",
            "Confusion Matrix:\n",
            "[[ 91   8   2   2]\n",
            " [  1  14   0   0]\n",
            " [  0   0 294   0]\n",
            " [  1   1   0  18]]\n"
          ]
        }
      ]
    },
    {
      "cell_type": "code",
      "source": [
        "# Splitting features and target for the Car Evaluation dataset.\n",
        "X_car = df.drop('outcome', axis=1)\n",
        "y_car = df['outcome']\n",
        "\n",
        "# Initialize the RandomForestClassifier for the Car Evaluation dataset.\n",
        "model_car = RandomForestClassifier()\n",
        "\n",
        "# Define a dictionary of hyperparameters to search.\n",
        "parameters_car = {\n",
        "    'max_depth': [5, 10, 15, 20, 25],\n",
        "    'random_state': [0, 1, 2],\n",
        "    'n_estimators': [10, 30, 50, 70, 100]\n",
        "}\n",
        "\n",
        "# Using GridSearchCV for hyperparameter tuning on the Car Evaluation dataset.\n",
        "grid_car = GridSearchCV(model_car, parameters_car, cv=5, verbose=1)\n",
        "grid_car.fit(X_car, y_car)\n",
        "\n",
        "print(\"\\n[Car Evaluation] Best Score from GridSearchCV:\")\n",
        "print(grid_car.best_score_)\n",
        "\n",
        "print(\"\\n[Car Evaluation] Best Hyperparameters from GridSearchCV:\")\n",
        "print(grid_car.best_params_)\n",
        "\n",
        "# You can further refine the tuning process for the Car Evaluation dataset just as we did with the Breast Cancer dataset.\n",
        "# For example, a second round of tuning with a narrower range:\n",
        "parameters_car = {\n",
        "    'max_depth': [10, 11, 12],\n",
        "    'random_state': [2],\n",
        "    'n_estimators': [65, 70, 75]\n",
        "}\n",
        "grid_car = GridSearchCV(model_car, parameters_car, cv=5, verbose=1)\n",
        "grid_car.fit(X_car, y_car)\n",
        "print(\"\\n[Car Evaluation - Second Round] Best Score:\", grid_car.best_score_)\n",
        "print(\"[Car Evaluation - Second Round] Best Parameters:\", grid_car.best_params_)"
      ],
      "metadata": {
        "id": "55sMhW0q9q4X",
        "colab": {
          "base_uri": "https://localhost:8080/"
        },
        "outputId": "8e461218-c39a-482d-cde0-16155db4d6c3"
      },
      "execution_count": null,
      "outputs": [
        {
          "output_type": "stream",
          "name": "stdout",
          "text": [
            "Fitting 5 folds for each of 75 candidates, totalling 375 fits\n",
            "\n",
            "[Car Evaluation] Best Score from GridSearchCV:\n",
            "0.8218296054284997\n",
            "\n",
            "[Car Evaluation] Best Hyperparameters from GridSearchCV:\n",
            "{'max_depth': 15, 'n_estimators': 50, 'random_state': 1}\n",
            "Fitting 5 folds for each of 9 candidates, totalling 45 fits\n",
            "\n",
            "[Car Evaluation - Second Round] Best Score: 0.7986914635167965\n",
            "[Car Evaluation - Second Round] Best Parameters: {'max_depth': 10, 'n_estimators': 75, 'random_state': 2}\n"
          ]
        }
      ]
    },
    {
      "cell_type": "markdown",
      "source": [
        "EXPERIMENTx10"
      ],
      "metadata": {
        "id": "U1m-UMgoALap"
      }
    },
    {
      "cell_type": "code",
      "source": [
        "# 1. IMPORT ALL PACKAGES\n",
        "import pandas as pd\n",
        "import numpy as np\n",
        "import matplotlib.pyplot as plt\n",
        "from collections import Counter\n",
        "from sklearn.cluster import KMeans\n",
        "from sklearn.metrics import silhouette_score"
      ],
      "metadata": {
        "id": "QmTI_bE49q9x"
      },
      "execution_count": null,
      "outputs": []
    },
    {
      "cell_type": "code",
      "source": [
        "# 2. IMPORT DATASET\n",
        "data = pd.read_csv('/content/iris (2).csv')"
      ],
      "metadata": {
        "id": "53OkzD4I9rAP"
      },
      "execution_count": null,
      "outputs": []
    },
    {
      "cell_type": "code",
      "source": [
        "# 3. DISPLAY HEAD, INFO, UNIQUE TARGETS, SHAPE, NULL CHECK, AND DESCRIBE\n",
        "print(\"First 5 rows of the dataset:\")\n",
        "print(data.head())\n",
        "\n",
        "print(\"\\nDataset Information:\")\n",
        "data.info()\n",
        "\n",
        "print(\"\\nUnique values in target:\")\n",
        "print(data.target.unique())\n",
        "\n",
        "print(\"\\nDataset Shape (rows, columns):\", data.shape)\n",
        "\n",
        "# Check for null values and drop them if any\n",
        "print(\"\\nChecking for null values:\")\n",
        "print(data.isnull().sum())\n",
        "data.dropna(inplace=True)\n",
        "print(\"Dataset shape after dropping nulls:\", data.shape)\n",
        "\n",
        "# Check for duplicates and drop them if any\n",
        "print(\"\\nChecking for duplicate rows:\")\n",
        "print(data.duplicated().sum())\n",
        "data.drop_duplicates(inplace=True)\n",
        "print(\"Dataset shape after dropping duplicates:\", data.shape)\n",
        "\n",
        "print(\"\\nStatistical Description:\")\n",
        "print(data.describe())"
      ],
      "metadata": {
        "id": "RXoo_Jyp9rDB",
        "colab": {
          "base_uri": "https://localhost:8080/"
        },
        "outputId": "30e3fbb0-7635-474b-d535-5c5a654f9bd5"
      },
      "execution_count": null,
      "outputs": [
        {
          "output_type": "stream",
          "name": "stdout",
          "text": [
            "First 5 rows of the dataset:\n",
            "   sepal_length  sepal_width  petal_length  petal_width  target\n",
            "0           5.1          3.5           1.4          0.2       0\n",
            "1           4.9          3.0           1.4          0.2       0\n",
            "2           4.7          3.2           1.3          0.2       0\n",
            "3           4.6          3.1           1.5          0.2       0\n",
            "4           5.0          3.6           1.4          0.2       0\n",
            "\n",
            "Dataset Information:\n",
            "<class 'pandas.core.frame.DataFrame'>\n",
            "RangeIndex: 150 entries, 0 to 149\n",
            "Data columns (total 5 columns):\n",
            " #   Column        Non-Null Count  Dtype  \n",
            "---  ------        --------------  -----  \n",
            " 0   sepal_length  150 non-null    float64\n",
            " 1   sepal_width   150 non-null    float64\n",
            " 2   petal_length  150 non-null    float64\n",
            " 3   petal_width   150 non-null    float64\n",
            " 4   target        150 non-null    int64  \n",
            "dtypes: float64(4), int64(1)\n",
            "memory usage: 6.0 KB\n",
            "\n",
            "Unique values in target:\n",
            "[0 1 2]\n",
            "\n",
            "Dataset Shape (rows, columns): (150, 5)\n",
            "\n",
            "Checking for null values:\n",
            "sepal_length    0\n",
            "sepal_width     0\n",
            "petal_length    0\n",
            "petal_width     0\n",
            "target          0\n",
            "dtype: int64\n",
            "Dataset shape after dropping nulls: (150, 5)\n",
            "\n",
            "Checking for duplicate rows:\n",
            "3\n",
            "Dataset shape after dropping duplicates: (147, 5)\n",
            "\n",
            "Statistical Description:\n",
            "       sepal_length  sepal_width  petal_length  petal_width      target\n",
            "count    147.000000   147.000000    147.000000   147.000000  147.000000\n",
            "mean       5.856463     3.055782      3.780272     1.208844    1.006803\n",
            "std        0.829100     0.437009      1.759111     0.757874    0.815069\n",
            "min        4.300000     2.000000      1.000000     0.100000    0.000000\n",
            "25%        5.100000     2.800000      1.600000     0.300000    0.000000\n",
            "50%        5.800000     3.000000      4.400000     1.300000    1.000000\n",
            "75%        6.400000     3.300000      5.100000     1.800000    2.000000\n",
            "max        7.900000     4.400000      6.900000     2.500000    2.000000\n"
          ]
        }
      ]
    },
    {
      "cell_type": "code",
      "source": [
        "# 4. EDA: Visualize Distribution of Target using a Bar Graph (using collections.Counter)\n",
        "target_counts = Counter(data['target'])\n",
        "print(\"\\nCounts for each target type:\", target_counts)\n",
        "\n",
        "plt.figure(figsize=(8,6))\n",
        "plt.bar(target_counts.keys(), target_counts.values(), color=['red','blue','green'])\n",
        "plt.xlabel('Target/Types of Flowers')\n",
        "plt.ylabel('Count')\n",
        "plt.title('Distribution of Flower Types')\n",
        "plt.show()\n"
      ],
      "metadata": {
        "id": "zCQhonkd9rF3",
        "colab": {
          "base_uri": "https://localhost:8080/",
          "height": 599
        },
        "outputId": "138660aa-f6e3-4cfa-ca8e-4d516410f3d5"
      },
      "execution_count": null,
      "outputs": [
        {
          "output_type": "stream",
          "name": "stdout",
          "text": [
            "\n",
            "Counts for each target type: Counter({1: 50, 2: 49, 0: 48})\n"
          ]
        },
        {
          "output_type": "display_data",
          "data": {
            "text/plain": [
              "<Figure size 800x600 with 1 Axes>"
            ],
            "image/png": "[encoded data removed]"
          },
          "metadata": {}
        }
      ]
    },
    {
      "cell_type": "code",
      "source": [
        "# 5. DATA PREPROCESSING: SPLITTING FEATURES AND TARGET\n",
        "# Here, x contains the features (all four measurements) and target is used only for EDA comparison.\n",
        "x = data.iloc[:, [0, 1, 2, 3]].values\n",
        "\n",
        "# 6. FINDING THE NUMBER OF CLUSTERS (K) USING THE ELBOW METHOD\n",
        "wcss = []  # List to hold Within-Cluster Sum of Squares for different k values\n",
        "for i in range(1, 16):  # testing k values from 1 to 15\n",
        "    kmeans = KMeans(n_clusters=i, random_state=1)\n",
        "    kmeans.fit(x)\n",
        "    wcss.append(kmeans.inertia_)\n",
        "\n",
        "# Plotting the Elbow Method graph\n",
        "plt.figure(figsize=(8,6))\n",
        "plt.plot(range(1, 16), wcss, marker='o')\n",
        "plt.title(\"Elbow Method\")\n",
        "plt.xlabel(\"Number of clusters (k)\")\n",
        "plt.ylabel(\"WCSS\")\n",
        "plt.show()"
      ],
      "metadata": {
        "id": "s_Tqnk0Z9rIs",
        "colab": {
          "base_uri": "https://localhost:8080/",
          "height": 564
        },
        "outputId": "70b73dd6-1f01-4249-e762-1e684eb899e3"
      },
      "execution_count": null,
      "outputs": [
        {
          "output_type": "display_data",
          "data": {
            "text/plain": [
              "<Figure size 800x600 with 1 Axes>"
            ],
            "image/png": "[encoded data removed]"
          },
          "metadata": {}
        }
      ]
    },
    {
      "cell_type": "code",
      "source": [
        "# 7. BUILDING THE K-MEANS MODEL\n",
        "# Let's start with k = 3 (commonly used for Iris) and then try k = 4 for comparison.\n",
        "kmeans = KMeans(n_clusters=3, random_state=1)\n",
        "y_predict = kmeans.fit_predict(x)\n",
        "print(\"\\nCluster labels for k=3:\")\n",
        "print(y_predict)\n"
      ],
      "metadata": {
        "id": "thYpbdkP9rLW",
        "colab": {
          "base_uri": "https://localhost:8080/"
        },
        "outputId": "47f9ddcc-2a10-471a-9f3f-cefdeb690253"
      },
      "execution_count": null,
      "outputs": [
        {
          "output_type": "stream",
          "name": "stdout",
          "text": [
            "\n",
            "Cluster labels for k=3:\n",
            "[1 1 1 1 1 1 1 1 1 1 1 1 1 1 1 1 1 1 1 1 1 1 1 1 1 1 1 1 1 1 1 1 1 1 1 1 1\n",
            " 1 1 1 1 1 1 1 1 1 1 1 0 2 0 2 2 2 2 2 2 2 2 2 2 2 2 2 2 2 2 2 2 2 2 2 2 2\n",
            " 2 0 2 2 2 2 2 2 2 2 2 2 2 2 2 2 2 2 2 2 2 2 2 2 0 2 0 0 0 0 2 0 0 0 0 0 0\n",
            " 2 2 0 0 0 0 2 0 2 0 2 0 0 2 2 0 0 0 0 0 2 0 0 0 0 2 0 0 0 0 0 0 2 0 0 2]\n"
          ]
        }
      ]
    },
    {
      "cell_type": "code",
      "source": [
        "kmeans1 = KMeans(n_clusters=4, random_state=1)\n",
        "y_predict1 = kmeans1.fit_predict(x)\n",
        "print(\"\\nCluster labels for k=4:\")\n",
        "print(y_predict1)"
      ],
      "metadata": {
        "id": "Mqx2Xzky9rOX",
        "colab": {
          "base_uri": "https://localhost:8080/"
        },
        "outputId": "c8fe9aca-7635-46be-fb0e-aa9555e43fed"
      },
      "execution_count": null,
      "outputs": [
        {
          "output_type": "stream",
          "name": "stdout",
          "text": [
            "\n",
            "Cluster labels for k=4:\n",
            "[1 1 1 1 1 1 1 1 1 1 1 1 1 1 1 1 1 1 1 1 1 1 1 1 1 1 1 1 1 1 1 1 1 1 1 1 1\n",
            " 1 1 1 1 1 1 1 1 1 1 1 0 0 0 2 0 2 0 2 0 2 2 2 2 0 2 0 2 2 0 2 0 2 0 0 0 0\n",
            " 0 0 0 2 2 2 2 0 2 0 0 0 2 2 2 0 2 2 2 2 2 0 2 2 3 0 3 3 3 3 2 3 3 3 0 0 3\n",
            " 0 0 3 3 3 3 0 3 0 3 0 3 3 0 0 3 3 3 3 3 0 0 3 3 3 0 3 3 3 3 3 3 0 0 3 0]\n"
          ]
        }
      ]
    },
    {
      "cell_type": "code",
      "source": [
        "# 8. EVALUATING THE MODEL USING SILHOUETTE SCORE\n",
        "sil_score_3 = silhouette_score(x, kmeans.labels_)\n",
        "print(\"\\nSilhouette Score for k=3:\", sil_score_3)"
      ],
      "metadata": {
        "id": "zsWw3WYq9rRG",
        "colab": {
          "base_uri": "https://localhost:8080/"
        },
        "outputId": "fce7694c-8d1a-459b-b994-a34d61ded2f1"
      },
      "execution_count": null,
      "outputs": [
        {
          "output_type": "stream",
          "name": "stdout",
          "text": [
            "\n",
            "Silhouette Score for k=3: 0.5493074238267263\n"
          ]
        }
      ]
    },
    {
      "cell_type": "code",
      "source": [
        "sil_score_4 = silhouette_score(x, kmeans1.labels_)\n",
        "print(\"Silhouette Score for k=4:\", sil_score_4)"
      ],
      "metadata": {
        "id": "HqJdwL9L9rUC",
        "colab": {
          "base_uri": "https://localhost:8080/"
        },
        "outputId": "092bbf48-4bc2-45bf-d4b1-2f8a1e1a2963"
      },
      "execution_count": null,
      "outputs": [
        {
          "output_type": "stream",
          "name": "stdout",
          "text": [
            "Silhouette Score for k=4: 0.49397403978627596\n"
          ]
        }
      ]
    },
    {
      "cell_type": "code",
      "source": [
        "# 9. VISUALIZING THE CLUSTERS WITH CENTROIDS\n",
        "# First visualization: Using Sepal Length (x[:,0]) and Sepal Width (x[:,1])\n",
        "plt.figure(figsize=(8,6))\n",
        "plt.scatter(x[y_predict == 0, 0], x[y_predict == 0, 1], c='red', label='Cluster 1')\n",
        "plt.scatter(x[y_predict == 1, 0], x[y_predict == 1, 1], c='blue', label='Cluster 2')\n",
        "plt.scatter(x[y_predict == 2, 0], x[y_predict == 2, 1], c='green', label='Cluster 3')\n",
        "plt.scatter(kmeans.cluster_centers_[:, 0], kmeans.cluster_centers_[:, 1], c='yellow',\n",
        "            label='Centroids', marker='X', s=200)\n",
        "plt.xlabel('Sepal Length')\n",
        "plt.ylabel('Sepal Width')\n",
        "plt.title('Clusters of Iris Data (Sepal Dimensions)')\n",
        "plt.legend()\n",
        "plt.show()"
      ],
      "metadata": {
        "id": "D4TinrQ29rWu",
        "colab": {
          "base_uri": "https://localhost:8080/",
          "height": 564
        },
        "outputId": "273fb0e4-33b2-406f-eba2-017a95d81867"
      },
      "execution_count": null,
      "outputs": [
        {
          "output_type": "display_data",
          "data": {
            "text/plain": [
              "<Figure size 800x600 with 1 Axes>"
            ],
            "image/png": "[encoded data removed]"
          },
          "metadata": {}
        }
      ]
    },
    {
      "cell_type": "code",
      "source": [
        "# Second visualization: Using Petal Length (x[:,2]) and Petal Width (x[:,3])\n",
        "plt.figure(figsize=(8,6))\n",
        "plt.scatter(x[y_predict == 0, 2], x[y_predict == 0, 3], c='red', label='Cluster 1')\n",
        "plt.scatter(x[y_predict == 1, 2], x[y_predict == 1, 3], c='blue', label='Cluster 2')\n",
        "plt.scatter(x[y_predict == 2, 2], x[y_predict == 2, 3], c='green', label='Cluster 3')\n",
        "plt.scatter(kmeans.cluster_centers_[:, 2], kmeans.cluster_centers_[:, 3], c='yellow',\n",
        "            label='Centroids', marker='X', s=200)\n",
        "plt.xlabel('Petal Length')\n",
        "plt.ylabel('Petal Width')\n",
        "plt.title('Clusters of Iris Data (Petal Dimensions)')\n",
        "plt.legend()\n",
        "plt.show()"
      ],
      "metadata": {
        "id": "gbrwcFmd9rZw",
        "colab": {
          "base_uri": "https://localhost:8080/",
          "height": 564
        },
        "outputId": "4fd4f34c-9e40-4508-f66c-cc929873b535"
      },
      "execution_count": null,
      "outputs": [
        {
          "output_type": "display_data",
          "data": {
            "text/plain": [
              "<Figure size 800x600 with 1 Axes>"
            ],
            "image/png": "[encoded data removed]"
          },
          "metadata": {}
        }
      ]
    },
    {
      "cell_type": "code",
      "source": [],
      "metadata": {
        "id": "QSmuzx5K9rcj"
      },
      "execution_count": null,
      "outputs": []
    },
    {
      "cell_type": "code",
      "source": [],
      "metadata": {
        "id": "HbPqyFfg9rfm"
      },
      "execution_count": null,
      "outputs": []
    },
    {
      "cell_type": "code",
      "source": [],
      "metadata": {
        "id": "KrUz6uL39ris"
      },
      "execution_count": null,
      "outputs": []
    },
    {
      "cell_type": "code",
      "source": [],
      "metadata": {
        "id": "LT0I-70h9rlu"
      },
      "execution_count": null,
      "outputs": []
    },
    {
      "cell_type": "code",
      "source": [],
      "metadata": {
        "id": "ecppvqm_9roZ"
      },
      "execution_count": null,
      "outputs": []
    },
    {
      "cell_type": "code",
      "source": [],
      "metadata": {
        "id": "oXvZQkDW9rri"
      },
      "execution_count": null,
      "outputs": []
    },
    {
      "cell_type": "code",
      "source": [],
      "metadata": {
        "id": "_LD6Swbv9ruL"
      },
      "execution_count": null,
      "outputs": []
    },
    {
      "cell_type": "code",
      "source": [],
      "metadata": {
        "id": "0STupJPf9rxQ"
      },
      "execution_count": null,
      "outputs": []
    },
    {
      "cell_type": "code",
      "source": [],
      "metadata": {
        "id": "Rj7codro9r0Y"
      },
      "execution_count": null,
      "outputs": []
    },
    {
      "cell_type": "code",
      "source": [],
      "metadata": {
        "id": "khqEuKDM9tpD"
      },
      "execution_count": null,
      "outputs": []
    }
  ]
}