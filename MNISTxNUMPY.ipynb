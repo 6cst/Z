{
  "nbformat": 4,
  "nbformat_minor": 0,
  "metadata": {
    "colab": {
      "provenance": []
    },
    "kernelspec": {
      "name": "python3",
      "display_name": "Python 3"
    },
    "language_info": {
      "name": "python"
    }
  },
  "cells": [
    {
      "cell_type": "code",
      "execution_count": 1,
      "metadata": {
        "colab": {
          "base_uri": "https://localhost:8080/",
          "height": 0
        },
        "id": "nLdCCM-ZidQb",
        "outputId": "8a316a7e-fa44-461d-d6be-45eab4c00b31"
      },
      "outputs": [
        {
          "output_type": "stream",
          "name": "stdout",
          "text": [
            "1D - First element: 10\n",
            "1D - Last element: 40\n",
            "1D - Index 1 to 3: [50 30 20]\n",
            "1D - Every 2nd element: [10 30 40]\n",
            "1D - Ascending: [10 20 30 40 50]\n",
            "1D - Descending: [50 40 30 20 10]\n",
            "1D - In-place Ascending: [10 20 30 40 50]\n",
            "1D - In-place Descending: [50 40 30 20 10]\n",
            "2D - Element at [0][1]: 10\n",
            "2D - First row: [40 10 20]\n",
            "2D - First column: [40 70]\n",
            "2D - Submatrix [0:2, 1:3]:\n",
            " [[10 20]\n",
            " [50 60]]\n",
            "2D - Row-wise Ascending:\n",
            " [[10 20 40]\n",
            " [50 60 70]]\n",
            "2D - Column-wise Ascending:\n",
            " [[40 10 20]\n",
            " [70 50 60]]\n",
            "2D - Row-wise Descending:\n",
            " [[40 20 10]\n",
            " [70 60 50]]\n",
            "3D - Element at [1][0][1]: 6\n",
            "3D - First 2D block:\n",
            " [[1 2]\n",
            " [5 4]]\n",
            "3D - All 1st rows across 2D blocks:\n",
            " [[1 2]\n",
            " [8 6]]\n",
            "3D - All 2nd elements of 2nd row in each 2D block: [4 3]\n",
            "3D - Sorted along last axis:\n",
            " [[[1 2]\n",
            "  [4 5]]\n",
            "\n",
            " [[6 8]\n",
            "  [3 7]]]\n",
            "3D - Descending along last axis:\n",
            " [[[2 1]\n",
            "  [5 4]]\n",
            "\n",
            " [[8 6]\n",
            "  [7 3]]]\n"
          ]
        }
      ],
      "source": [
        "# NumPy Arrays: 1D, 2D, and 3D Basics\n",
        "# Covers:\n",
        "# ✅ Creation\n",
        "# ✅ Indexing (accessing specific elements)\n",
        "# ✅ Slicing (sub-arrays)\n",
        "# ✅ Sorting (Ascending & Descending, including in-place)\n",
        "# This is the 20% core you'll use in 80% of real problems.\n",
        "\n",
        "import numpy as np\n",
        "\n",
        "# ------------------- 1D ARRAY -------------------\n",
        "a = np.array([10, 50, 30, 20, 40])\n",
        "\n",
        "# Indexing\n",
        "print(\"1D - First element:\", a[0])     # 10\n",
        "print(\"1D - Last element:\", a[-1])     # 40\n",
        "\n",
        "# Slicing\n",
        "print(\"1D - Index 1 to 3:\", a[1:4])    # [50 30 20]\n",
        "print(\"1D - Every 2nd element:\", a[::2]) # [10 30 40]\n",
        "\n",
        "# Sorting\n",
        "print(\"1D - Ascending:\", np.sort(a))       # [10 20 30 40 50]\n",
        "print(\"1D - Descending:\", np.sort(a)[::-1]) # [50 40 30 20 10]\n",
        "\n",
        "# In-place\n",
        "a.sort()\n",
        "print(\"1D - In-place Ascending:\", a)\n",
        "a = a[::-1]\n",
        "print(\"1D - In-place Descending:\", a)\n",
        "\n",
        "# ------------------- 2D ARRAY -------------------\n",
        "b = np.array([[40, 10, 20],\n",
        "              [70, 50, 60]])\n",
        "\n",
        "# Indexing\n",
        "print(\"2D - Element at [0][1]:\", b[0][1])   # 10\n",
        "\n",
        "# Slicing\n",
        "print(\"2D - First row:\", b[0])              # [40 10 20]\n",
        "print(\"2D - First column:\", b[:, 0])        # [40 70]\n",
        "print(\"2D - Submatrix [0:2, 1:3]:\\n\", b[0:2, 1:3])  # [[10 20], [50 60]]\n",
        "\n",
        "# Sorting\n",
        "print(\"2D - Row-wise Ascending:\\n\", np.sort(b, axis=1)) # Each row sorted\n",
        "print(\"2D - Column-wise Ascending:\\n\", np.sort(b, axis=0)) # Each column sorted\n",
        "\n",
        "# Descending (no direct way, so reverse sorted output)\n",
        "print(\"2D - Row-wise Descending:\\n\", np.sort(b, axis=1)[:, ::-1])\n",
        "\n",
        "# ------------------- 3D ARRAY -------------------\n",
        "c = np.array([[[1, 2], [5, 4]],\n",
        "              [[8, 6], [7, 3]]])\n",
        "\n",
        "# Indexing\n",
        "print(\"3D - Element at [1][0][1]:\", c[1][0][1])  # 6\n",
        "\n",
        "# Slicing\n",
        "print(\"3D - First 2D block:\\n\", c[0])\n",
        "print(\"3D - All 1st rows across 2D blocks:\\n\", c[:, 0, :])  # shape (2, 2)\n",
        "print(\"3D - All 2nd elements of 2nd row in each 2D block:\", c[:, 1, 1])  # [4, 3]\n",
        "\n",
        "# Sorting (applied along the last axis)\n",
        "print(\"3D - Sorted along last axis:\\n\", np.sort(c, axis=-1))\n",
        "\n",
        "# Descending\n",
        "print(\"3D - Descending along last axis:\\n\", np.sort(c, axis=-1)[..., ::-1])\n"
      ]
    },
    {
      "cell_type": "markdown",
      "source": [
        "MNIST"
      ],
      "metadata": {
        "id": "UqtE1kwakVt_"
      }
    },
    {
      "cell_type": "markdown",
      "source": [],
      "metadata": {
        "id": "sg8K9dPOkVkv"
      }
    },
    {
      "cell_type": "code",
      "source": [
        "import numpy as np\n",
        "import seaborn as sns\n",
        "import matplotlib.pyplot as plt\n",
        "import pandas as pd\n",
        "from sklearn.linear_model import SGDClassifier\n",
        "from sklearn.model_selection import train_test_split, cross_val_score, cross_val_predict\n",
        "from sklearn.datasets import fetch_openml\n",
        "from sklearn.metrics import accuracy_score, classification_report, confusion_matrix, precision_score, recall_score, f1_score\n"
      ],
      "metadata": {
        "id": "FJMFLTIbirF4"
      },
      "execution_count": null,
      "outputs": []
    },
    {
      "cell_type": "code",
      "source": [
        "# 1. Import MNIST dataset\n",
        "mnist_digits = fetch_openml('mnist_784', version=1, as_frame=False)\n",
        "x, y = mnist_digits[\"data\"], mnist_digits[\"target\"].astype(int)\n"
      ],
      "metadata": {
        "id": "Y61gsj5rPxW6"
      },
      "execution_count": null,
      "outputs": []
    },
    {
      "cell_type": "code",
      "source": [
        "# 2. Data Preprocessing\n",
        "print(\"Dataset Info:\")\n",
        "print(pd.DataFrame(x).info())\n",
        "print(\"\\nHead of Dataset:\")\n",
        "print(pd.DataFrame(x).head())\n",
        "print(\"\\nTail of Dataset:\")\n",
        "print(pd.DataFrame(x).tail())\n",
        "print(\"\\nChecking for Missing Values:\")\n",
        "print(pd.DataFrame(x).isnull().sum().sum())\n",
        "print(\"\\nChecking for Duplicates:\")\n",
        "print(pd.DataFrame(x).duplicated().sum())\n",
        "print(\"\\nStatistical Summary:\")\n",
        "print(pd.DataFrame(x).describe())"
      ],
      "metadata": {
        "id": "9vT1VTLSkX0R"
      },
      "execution_count": null,
      "outputs": []
    },
    {
      "cell_type": "code",
      "source": [
        "# 3. Shape of Data\n",
        "print(\"\\nShape of Data:\", x.shape)\n",
        "print(\"Shape of Target:\", y.shape)"
      ],
      "metadata": {
        "id": "yC8Z-RyCkX3N"
      },
      "execution_count": null,
      "outputs": []
    },
    {
      "cell_type": "code",
      "source": [
        "# 4. Sample Digits Visualization\n",
        "sample_a = x[200].reshape(28, 28)\n",
        "sample_b = x[25].reshape(28, 28)\n",
        "\n",
        "plt.figure(figsize=(10, 4))\n",
        "plt.subplot(1, 2, 1)\n",
        "plt.imshow(sample_a, cmap='gray')\n",
        "plt.title(\"Sample Digit 200\")\n",
        "plt.axis(\"off\")\n",
        "\n",
        "plt.subplot(1, 2, 2)\n",
        "plt.imshow(sample_b, cmap='gray')\n",
        "plt.title(\"Sample Digit 25\")\n",
        "plt.axis(\"off\")\n",
        "plt.show()"
      ],
      "metadata": {
        "id": "E5R6L0qHkX5s"
      },
      "execution_count": null,
      "outputs": []
    },
    {
      "cell_type": "code",
      "source": [
        "# 5. Statistical Methods\n",
        "print(\"\\nMean:\", np.mean(x))\n",
        "print(\"\\nMedian:\", np.median(x))\n",
        "print(\"\\nStandard Deviation:\", np.std(x))\n",
        "print(\"\\nMinimum:\", np.min(x))\n",
        "print(\"\\nMaximum:\", np.max(x))\n"
      ],
      "metadata": {
        "id": "0Nd6tpunkX8M"
      },
      "execution_count": 2,
      "outputs": []
    },
    {
      "cell_type": "code",
      "source": [
        "# 6. Data Visualization - Bar Graph & Area Chart\n",
        "y = y.astype(int)  # Ensure y is integer type to avoid TypeError\n",
        "\n",
        "plt.figure(figsize=(10, 5))\n",
        "plt.subplot(1, 2, 1)\n",
        "plt.bar(range(10), np.bincount(y, minlength=10), color='skyblue')\n",
        "plt.xlabel(\"Digit\")\n",
        "plt.ylabel(\"Count\")\n",
        "plt.title(\"Digit Distribution - Bar Chart\")\n",
        "\n",
        "plt.subplot(1, 2, 2)\n",
        "plt.fill_between(range(10), np.bincount(y, minlength=10), color='lightcoral', alpha=0.5)\n",
        "plt.xlabel(\"Digit\")\n",
        "plt.ylabel(\"Count\")\n",
        "plt.title(\"Digit Distribution - Area Chart\")\n",
        "plt.show()"
      ],
      "metadata": {
        "id": "3l0hPac_kk4I"
      },
      "execution_count": null,
      "outputs": []
    },
    {
      "cell_type": "code",
      "source": [
        "# 7. Splitting Data\n",
        "x_train, x_test, y_train, y_test = train_test_split(x, y, test_size=0.2, random_state=42)\n"
      ],
      "metadata": {
        "id": "nZWjDDMzklBz"
      },
      "execution_count": null,
      "outputs": []
    },
    {
      "cell_type": "code",
      "source": [
        "# 8. Train SGD Classifier\n",
        "model = SGDClassifier(random_state=42)\n",
        "model.fit(x_train, y_train)"
      ],
      "metadata": {
        "id": "AD-6HSp8klEJ"
      },
      "execution_count": null,
      "outputs": []
    },
    {
      "cell_type": "code",
      "source": [
        "# 9. Predictions\n",
        "y_pred = model.predict(x_test)"
      ],
      "metadata": {
        "id": "bCnNCIW7klHI"
      },
      "execution_count": null,
      "outputs": []
    },
    {
      "cell_type": "code",
      "source": [
        "# 10. Confusion Matrix\n",
        "conf_matrix = confusion_matrix(y_test, y_pred)\n",
        "sns.heatmap(conf_matrix, annot=True, fmt='d', cmap='Blues')\n",
        "plt.xlabel(\"Predicted\")\n",
        "plt.ylabel(\"Actual\")\n",
        "plt.title(\"Confusion Matrix\")\n",
        "plt.show()"
      ],
      "metadata": {
        "id": "aGeNMZvwklKq"
      },
      "execution_count": null,
      "outputs": []
    },
    {
      "cell_type": "code",
      "source": [
        "# 11. Performance Metrics\n",
        "accuracy = accuracy_score(y_test, y_pred)\n",
        "precision = precision_score(y_test, y_pred, average='weighted')\n",
        "recall = recall_score(y_test, y_pred, average='weighted')\n",
        "f1 = f1_score(y_test, y_pred, average='weighted')\n",
        "print(f\"Accuracy: {accuracy:.4f}\")\n",
        "print(f\"Precision: {precision:.4f}\")\n",
        "print(f\"Recall: {recall:.4f}\")\n",
        "print(f\"F1 Score: {f1:.4f}\")\n"
      ],
      "metadata": {
        "id": "Vw7dKKYokX-y"
      },
      "execution_count": null,
      "outputs": []
    },
    {
      "cell_type": "code",
      "source": [
        "# 12. Cross-Validation\n",
        "cv_scores = cross_val_score(model, x_train, y_train, cv=3, scoring=\"accuracy\")\n",
        "print(\"Cross-Validation Scores:\", cv_scores)\n"
      ],
      "metadata": {
        "id": "PwrLjkM3kYBZ"
      },
      "execution_count": null,
      "outputs": []
    }
  ]
}